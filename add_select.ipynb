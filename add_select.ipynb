{
 "cells": [
  {
   "cell_type": "code",
   "execution_count": 1,
   "id": "6f528b2a-4a8c-43f4-a2a8-12baa0b601ff",
   "metadata": {},
   "outputs": [
    {
     "name": "stdout",
     "output_type": "stream",
     "text": [
      "Formatted datetime: 20250729111120\n"
     ]
    }
   ],
   "source": [
    "from nocodb_base import fetch_all_rows_from_nocodb, update_row\n",
    "from file_utils import write_json, write_tsv, read_tsv\n",
    "import re\n",
    "import time\n"
   ]
  },
  {
   "cell_type": "code",
   "execution_count": 2,
   "id": "fc4d62bc-b6c2-4c6f-a767-297335f7958b",
   "metadata": {},
   "outputs": [],
   "source": [
    "# Configuration\n",
    "xc_token = \"KVwjEgUQOwJkjYih9tef5J7A54z05RHliR_1GoSs\"\n",
    "# all cloudfront urls\n",
    "#table_id = \"mxp572bg586eppw\"\n",
    "#view_id = \"vwy8ovu97qes5d9h\"\n",
    "# all pages\n",
    "table_id = \"mzmy06jcvenm2no\"\n",
    "view_id = \"vw6jzhxqjdvzj3ca\"\n",
    "noco_base_url = \"https://tables.rhizome.org\"\n",
    "headers = {\n",
    "    'accept': 'application/json',\n",
    "    'xc-token': xc_token,\n",
    "}\n",
    "seed_file = \"add_keys/.txt\""
   ]
  },
  {
   "cell_type": "code",
   "execution_count": 3,
   "id": "81fe6261-41b5-4a5a-a9b4-f7cf526d313a",
   "metadata": {},
   "outputs": [
    {
     "name": "stdout",
     "output_type": "stream",
     "text": [
      "test1\n",
      "Fetching data from offset 0...\n",
      "Error: 404, {\"error\":\"TABLE_NOT_FOUND\",\"message\":\"Table 'm4gk39nkz5qkw5v' not found\"}\n",
      "test2\n",
      "Total posts fetched: 0\n"
     ]
    }
   ],
   "source": [
    "rows_data = fetch_all_rows_from_nocodb(noco_base_url, headers, table_id, view_id)\n",
    "#print(rows_data)"
   ]
  },
  {
   "cell_type": "code",
   "execution_count": 118,
   "id": "e57b57ec-59df-4e98-9f54-e157b9681854",
   "metadata": {},
   "outputs": [
    {
     "name": "stdout",
     "output_type": "stream",
     "text": [
      "TSV data written to aqnb_url_list.txt\n"
     ]
    }
   ],
   "source": [
    "from file_utils import write_json, write_tsv\n",
    "output_file = \"aqnb_url_list.txt\"\n",
    "write_tsv(output_file, rows_data)"
   ]
  },
  {
   "cell_type": "code",
   "execution_count": 119,
   "id": "b13d49d8-2a5c-4904-ac5c-f52c4e9e0400",
   "metadata": {},
   "outputs": [],
   "source": [
    "rows_data = read_tsv(\"aqnb_url_list.txt\")"
   ]
  },
  {
   "cell_type": "code",
   "execution_count": 120,
   "id": "73c35628-3302-4033-bb4c-d07a2a1b4281",
   "metadata": {},
   "outputs": [],
   "source": [
    "from urllib.parse import urlparse, urlunparse, quote\n",
    "\n",
    "def normalize_url(url):\n",
    "    url = url.strip()\n",
    "    parsed = urlparse(url)\n",
    "\n",
    "    scheme = parsed.scheme.lower()\n",
    "    netloc = parsed.netloc.lower()\n",
    "\n",
    "    # Lowercase path, strip trailing slash\n",
    "    path = parsed.path.rstrip('/').lower()\n",
    "\n",
    "    # Keep query string if present (as-is)\n",
    "    query = parsed.query\n",
    "\n",
    "    # Rebuild the normalized URL\n",
    "    normalized = urlunparse((scheme, netloc, path, '', query, ''))\n",
    "\n",
    "    # Encode safely (optional but helpful if comparing to encoded index)\n",
    "    return quote(normalized, safe=':/?&=%')"
   ]
  },
  {
   "cell_type": "code",
   "execution_count": 121,
   "id": "fbb375a8-e88b-44aa-9a89-77061e8e36e3",
   "metadata": {},
   "outputs": [],
   "source": [
    "urls_list = {}\n",
    "with open(seed_file, 'rt', encoding='utf-8') as f:\n",
    "    for line in f:\n",
    "        url = normalize_url(line)\n",
    "        urls_list[url] = True"
   ]
  },
  {
   "cell_type": "code",
   "execution_count": 122,
   "id": "907a9eaa-de24-474b-b290-e10ec74bdc6e",
   "metadata": {},
   "outputs": [],
   "source": [
    "def update_row_defined_data(noco_base_url, headers, table_id, record_id, index_status,index_check_field):\n",
    "    \"\"\"Update the index_check column in NocoDB.\"\"\"\n",
    "    request_url = (\n",
    "        f\"{noco_base_url}/api/v2/tables/{table_id}/records\"\n",
    "    )\n",
    "    data = {\n",
    "        \"Id\": record_id,\n",
    "        #index_check_field: index_status,\n",
    "        \"type\": \"tag\"\n",
    "    }\n",
    "    #print(request_url)\n",
    "    #print(data)\n",
    "    try:\n",
    "        response = requests.patch(request_url, headers=headers, json=data)\n",
    "        if response.status_code == 200:\n",
    "            pass\n",
    "            #print(f\"Updated record {record_id} -> index_check: {index_status}\")\n",
    "        else:\n",
    "            print(f\"Failed to update record {record_id}. Status: {response.status_code}\")\n",
    "            print(f\"Response text: {response.text}\")\n",
    "    except requests.exceptions.RequestException as e:\n",
    "        print(f\"Error updating record {record_id}: {e}\")"
   ]
  },
  {
   "cell_type": "code",
   "execution_count": 123,
   "id": "6d533151-b1aa-4756-94c0-53dffacbb01a",
   "metadata": {},
   "outputs": [
    {
     "name": "stdout",
     "output_type": "stream",
     "text": [
      "JSON data written to add_seed.json\n",
      "Updated rows saved to add_seed.json\n"
     ]
    }
   ],
   "source": [
    "import requests\n",
    "\n",
    "# Process rows and add index status\n",
    "urls = []\n",
    "select_field = \"new\"\n",
    "new_select_item = \"added\"\n",
    "\n",
    "# Build mapping from normalized URL -> row\n",
    "url_to_row = {}\n",
    "for row in rows_data:\n",
    "    url = row.get(\"URL\")\n",
    "    if not url:\n",
    "        continue\n",
    "    normalized = normalize_url(url)\n",
    "    url_to_row[normalized] = row\n",
    "\n",
    "\n",
    "for url in urls_list:\n",
    "    normalized_url_seedlist = normalize_url(url)\n",
    "    #print(normalized_url_seedlist)\n",
    "\n",
    "    if normalized_url_seedlist in url_to_row:\n",
    "        #print(\"is in table\")\n",
    "        row = url_to_row[normalized_url_seedlist]\n",
    "        record_id = row.get(\"Id\")\n",
    "        #print(record_id)\n",
    "        select_data = row.get(select_field) or \"\"\n",
    "        current_items = [item.strip() for item in select_data.split(',') if item.strip()]\n",
    "\n",
    "        if new_select_item not in current_items:\n",
    "            current_items.append(new_select_item)\n",
    "            new_select = ','.join(current_items)\n",
    "            update_row_defined_data(noco_base_url, headers, table_id, record_id, new_select, select_field)  \n",
    "        else:\n",
    "            new_select = current_items\n",
    "            update_row_defined_data(noco_base_url, headers, table_id, record_id, new_select, select_field)  \n",
    "\n",
    "    else:\n",
    "        print(\"not in table\")\n",
    "        new_select = new_select_item\n",
    "        request_url = (\n",
    "            f\"{noco_base_url}/api/v2/tables/{table_id}/records\"\n",
    "        )\n",
    "        data = {\n",
    "            \"URL\": normalized_url_seedlist,\n",
    "            #select_field: new_select,\n",
    "            \"type\": \"tag\"\n",
    "        }\n",
    "        \n",
    "        try:\n",
    "            response = requests.post(request_url, headers=headers, json=data)\n",
    "            if response.status_code == 200:\n",
    "                pass\n",
    "                print(f\"created record -> new value: {normalized_url_seedlist}\")\n",
    "            else:\n",
    "                print(f\"Failed to create. Status: {response.status_code}\")\n",
    "        except requests.exceptions.RequestException as e:\n",
    "            print(f\"Error creating record: {e}\")\n",
    "    \n",
    "\n",
    "# Save updated rows\n",
    "#output_file = \"cloudfront_not_in_index.json\"\n",
    "output_file = \"add_seed.json\"\n",
    "\n",
    "write_json(output_file, urls)\n",
    "print(f\"Updated rows saved to {output_file}\")"
   ]
  },
  {
   "cell_type": "code",
   "execution_count": null,
   "id": "07dffc52-fa4e-4e6d-a8d7-0c94b5777a91",
   "metadata": {},
   "outputs": [],
   "source": []
  },
  {
   "cell_type": "code",
   "execution_count": null,
   "id": "a2bc1032-60b2-4e34-98a7-a560ca1a6cd0",
   "metadata": {},
   "outputs": [],
   "source": []
  }
 ],
 "metadata": {
  "kernelspec": {
   "display_name": "Python 3 (ipykernel)",
   "language": "python",
   "name": "python3"
  },
  "language_info": {
   "codemirror_mode": {
    "name": "ipython",
    "version": 3
   },
   "file_extension": ".py",
   "mimetype": "text/x-python",
   "name": "python",
   "nbconvert_exporter": "python",
   "pygments_lexer": "ipython3",
   "version": "3.12.3"
  }
 },
 "nbformat": 4,
 "nbformat_minor": 5
}
