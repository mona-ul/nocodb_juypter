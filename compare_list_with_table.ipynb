{
 "cells": [
  {
   "cell_type": "code",
   "execution_count": null,
   "id": "6f528b2a-4a8c-43f4-a2a8-12baa0b601ff",
   "metadata": {},
   "outputs": [],
   "source": [
    "from nocodb_base import fetch_all_rows_from_nocodb\n"
   ]
  },
  {
   "cell_type": "code",
   "execution_count": null,
   "id": "fc4d62bc-b6c2-4c6f-a767-297335f7958b",
   "metadata": {},
   "outputs": [],
   "source": [
    "# Configuration\n",
    "xc_token = \"\"\n",
    "table_id = \"mtonubyg02xtk5h\"\n",
    "view_id = \"vwu0p2p38ycn14n9\"\n",
    "noco_base_url = \"\"\n",
    "headers = {\n",
    "    'accept': 'application/json',\n",
    "    'xc-token': xc_token,\n",
    "}\n"
   ]
  },
  {
   "cell_type": "code",
   "execution_count": null,
   "id": "81fe6261-41b5-4a5a-a9b4-f7cf526d313a",
   "metadata": {},
   "outputs": [],
   "source": [
    "all_rows = fetch_all_rows_from_nocodb(noco_base_url, headers, table_id, view_id)"
   ]
  },
  {
   "cell_type": "code",
   "execution_count": null,
   "id": "3e05ac10-a327-497c-b9c9-e9dfbff54ea0",
   "metadata": {},
   "outputs": [],
   "source": [
    "from file_utils import write_json\n",
    "all_rows_file = \"/home/mona/Documents/arbeit/rhizome/jupyter/nocodb/all_rows_20250218.txt\"\n",
    "write_json(all_rows_file, all_rows)"
   ]
  },
  {
   "cell_type": "code",
   "execution_count": null,
   "id": "94e1e4a5-bde9-4fe8-8a0a-ade6d30547f8",
   "metadata": {},
   "outputs": [],
   "source": [
    "input_file = \"/home/mona/Documents/arbeit/rhizome/jupyter/nocodb/extracted_cloudfront_urls_dedu.txt\"\n",
    "# Read URLs from an input file\n",
    "def read_input_urls(input_file):\n",
    "    with open(input_file, 'r', encoding='utf-8') as file:\n",
    "        return [line.strip() for line in file]\n",
    "        \n",
    "input_urls = read_input_urls(input_file)"
   ]
  },
  {
   "cell_type": "code",
   "execution_count": null,
   "id": "23892431-4970-4b99-97d8-dfbf07025e69",
   "metadata": {},
   "outputs": [],
   "source": [
    "# Match input URLs with table data\n",
    "from urllib.parse import quote\n",
    "import urllib.parse\n",
    "\n",
    "def match_urls(input_urls, all_rows):\n",
    "    # Create a dictionary with unencoded URLs\n",
    "    table_urls = {record.get('URL'): record for record in all_rows if record.get('URL')}\n",
    "\n",
    "    not_found_urls = []\n",
    "\n",
    "    for url in input_urls:\n",
    "        if url in table_urls:  # Direct match without encoding\n",
    "            continue\n",
    "            #print(f\"Match found: {url}\")\n",
    "        else:\n",
    "            print(f\"No match found: {url}\")\n",
    "            not_found_urls.append(url)\n",
    "\n",
    "    return not_found_urls\n",
    "    \n",
    "not_found_urls = match_urls(input_urls, all_rows)"
   ]
  },
  {
   "cell_type": "code",
   "execution_count": null,
   "id": "123184b7-217a-41b1-b6ab-4d21325e7331",
   "metadata": {},
   "outputs": [],
   "source": [
    "# Input/Output files\n",
    "output_file = \"/home/mona/Documents/arbeit/rhizome/jupyter/nocodb/cloudfront_cloudfront_urls_not_in_table.txt\"\n",
    "# Write unmatched URLs to an output file\n",
    "def write_not_found_urls(output_file, urls):\n",
    "    with open(output_file, 'w', encoding='utf-8') as file:\n",
    "        for url in urls:\n",
    "            file.write(f\"{url}\\n\")\n",
    "    print(f\"Unmatched URLs written to {output_file}\")\n",
    "    \n",
    "write_not_found_urls(output_file, not_found_urls)"
   ]
  },
  {
   "cell_type": "code",
   "execution_count": null,
   "id": "2e575834-9fc8-44c9-a381-ca83f5a31598",
   "metadata": {},
   "outputs": [],
   "source": []
  }
 ],
 "metadata": {
  "kernelspec": {
   "display_name": "Python 3 (ipykernel)",
   "language": "python",
   "name": "python3"
  },
  "language_info": {
   "codemirror_mode": {
    "name": "ipython",
    "version": 3
   },
   "file_extension": ".py",
   "mimetype": "text/x-python",
   "name": "python",
   "nbconvert_exporter": "python",
   "pygments_lexer": "ipython3",
   "version": "3.12.3"
  }
 },
 "nbformat": 4,
 "nbformat_minor": 5
}
