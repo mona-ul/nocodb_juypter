{
 "cells": [
  {
   "cell_type": "code",
   "execution_count": 3,
   "id": "6f528b2a-4a8c-43f4-a2a8-12baa0b601ff",
   "metadata": {},
   "outputs": [
    {
     "name": "stdout",
     "output_type": "stream",
     "text": [
      "Formatted datetime: 20250126160552\n"
     ]
    }
   ],
   "source": [
    "from nocodb_base import fetch_all_rows_from_nocodb\n",
    "from file_utils import write_to_file\n"
   ]
  },
  {
   "cell_type": "code",
   "execution_count": 4,
   "id": "fc4d62bc-b6c2-4c6f-a767-297335f7958b",
   "metadata": {},
   "outputs": [],
   "source": [
    "# Configuration\n",
    "xc_token = \"\"\n",
    "table_id = \"me77dgzmhjqvqgv\"\n",
    "view_id = \"vwdmq4dujnk9ekbg\"\n",
    "noco_base_url = \"\"\n",
    "headers = {\n",
    "    'accept': 'application/json',\n",
    "    'xc-token': xc_token,\n",
    "}\n"
   ]
  },
  {
   "cell_type": "code",
   "execution_count": 5,
   "id": "81fe6261-41b5-4a5a-a9b4-f7cf526d313a",
   "metadata": {},
   "outputs": [
    {
     "name": "stdout",
     "output_type": "stream",
     "text": [
      "Fetching data from offset 0...\n",
      "Fetched 1000 posts from offset 0\n",
      "Fetching data from offset 1000...\n",
      "Fetched 1000 posts from offset 1000\n",
      "Fetching data from offset 2000...\n",
      "Fetched 1000 posts from offset 2000\n",
      "Fetching data from offset 3000...\n",
      "Fetched 1000 posts from offset 3000\n",
      "Fetching data from offset 4000...\n",
      "Fetched 1000 posts from offset 4000\n",
      "Fetching data from offset 5000...\n",
      "Fetched 1000 posts from offset 5000\n",
      "Fetching data from offset 6000...\n",
      "Fetched 1000 posts from offset 6000\n",
      "Fetching data from offset 7000...\n",
      "Fetched 1000 posts from offset 7000\n",
      "Fetching data from offset 8000...\n",
      "Fetched 1000 posts from offset 8000\n",
      "Fetching data from offset 9000...\n",
      "Fetched 1000 posts from offset 9000\n",
      "Fetching data from offset 10000...\n",
      "Fetched 1000 posts from offset 10000\n",
      "Fetching data from offset 11000...\n",
      "Fetched 1000 posts from offset 11000\n",
      "Fetching data from offset 12000...\n",
      "Fetched 1000 posts from offset 12000\n",
      "Fetching data from offset 13000...\n",
      "Fetched 1000 posts from offset 13000\n",
      "Fetching data from offset 14000...\n",
      "Fetched 1000 posts from offset 14000\n",
      "Fetching data from offset 15000...\n",
      "Fetched 1000 posts from offset 15000\n",
      "Fetching data from offset 16000...\n",
      "Fetched 1000 posts from offset 16000\n",
      "Fetching data from offset 17000...\n",
      "Fetched 1000 posts from offset 17000\n",
      "Fetching data from offset 18000...\n",
      "Fetched 1000 posts from offset 18000\n",
      "Fetching data from offset 19000...\n",
      "Fetched 1000 posts from offset 19000\n",
      "Fetching data from offset 20000...\n",
      "Fetched 1000 posts from offset 20000\n",
      "Fetching data from offset 21000...\n",
      "Fetched 1000 posts from offset 21000\n",
      "Fetching data from offset 22000...\n",
      "Fetched 1000 posts from offset 22000\n",
      "Fetching data from offset 23000...\n",
      "Fetched 1000 posts from offset 23000\n",
      "Fetching data from offset 24000...\n",
      "Fetched 1000 posts from offset 24000\n",
      "Fetching data from offset 25000...\n",
      "Fetched 1000 posts from offset 25000\n",
      "Fetching data from offset 26000...\n",
      "Fetched 1000 posts from offset 26000\n",
      "Fetching data from offset 27000...\n",
      "Fetched 1000 posts from offset 27000\n",
      "Fetching data from offset 28000...\n",
      "Fetched 1000 posts from offset 28000\n",
      "Fetching data from offset 29000...\n",
      "Fetched 1000 posts from offset 29000\n",
      "Fetching data from offset 30000...\n",
      "Fetched 1000 posts from offset 30000\n",
      "Fetching data from offset 31000...\n",
      "Fetched 1000 posts from offset 31000\n",
      "Fetching data from offset 32000...\n",
      "Fetched 1000 posts from offset 32000\n",
      "Fetching data from offset 33000...\n",
      "Fetched 1000 posts from offset 33000\n",
      "Fetching data from offset 34000...\n",
      "Fetched 1000 posts from offset 34000\n",
      "Fetching data from offset 35000...\n",
      "Fetched 1000 posts from offset 35000\n",
      "Fetching data from offset 36000...\n",
      "Fetched 1000 posts from offset 36000\n",
      "Fetching data from offset 37000...\n",
      "Fetched 1000 posts from offset 37000\n",
      "Fetching data from offset 38000...\n",
      "Fetched 1000 posts from offset 38000\n",
      "Fetching data from offset 39000...\n",
      "Fetched 1000 posts from offset 39000\n",
      "Fetching data from offset 40000...\n",
      "Fetched 1000 posts from offset 40000\n",
      "Fetching data from offset 41000...\n",
      "Fetched 1000 posts from offset 41000\n",
      "Fetching data from offset 42000...\n",
      "Fetched 1000 posts from offset 42000\n",
      "Fetching data from offset 43000...\n",
      "Fetched 1000 posts from offset 43000\n",
      "Fetching data from offset 44000...\n",
      "Fetched 1000 posts from offset 44000\n",
      "Fetching data from offset 45000...\n",
      "Fetched 1000 posts from offset 45000\n",
      "Fetching data from offset 46000...\n",
      "Fetched 1000 posts from offset 46000\n",
      "Fetching data from offset 47000...\n",
      "Fetched 1000 posts from offset 47000\n",
      "Fetching data from offset 48000...\n",
      "Fetched 1000 posts from offset 48000\n",
      "Fetching data from offset 49000...\n",
      "Fetched 1000 posts from offset 49000\n",
      "Fetching data from offset 50000...\n",
      "Fetched 1000 posts from offset 50000\n",
      "Fetching data from offset 51000...\n",
      "Fetched 1000 posts from offset 51000\n",
      "Fetching data from offset 52000...\n",
      "Fetched 385 posts from offset 52000\n",
      "Total posts fetched: 52385\n"
     ]
    }
   ],
   "source": [
    "all_rows = fetch_all_rows_from_nocodb(noco_base_url, headers, table_id, view_id)"
   ]
  },
  {
   "cell_type": "code",
   "execution_count": 1,
   "id": "da1393d0-dc9d-4f18-876b-2a41d44d4541",
   "metadata": {},
   "outputs": [
    {
     "ename": "NameError",
     "evalue": "name 'all_rows' is not defined",
     "output_type": "error",
     "traceback": [
      "\u001b[0;31m---------------------------------------------------------------------------\u001b[0m",
      "\u001b[0;31mNameError\u001b[0m                                 Traceback (most recent call last)",
      "Cell \u001b[0;32mIn[1], line 4\u001b[0m\n\u001b[1;32m      2\u001b[0m \u001b[38;5;28;01mfrom\u001b[39;00m \u001b[38;5;21;01mfile_utils\u001b[39;00m \u001b[38;5;28;01mimport\u001b[39;00m write_to_file\n\u001b[1;32m      3\u001b[0m output_file \u001b[38;5;241m=\u001b[39m \u001b[38;5;124m\"\u001b[39m\u001b[38;5;124mall_rows.txt\u001b[39m\u001b[38;5;124m\"\u001b[39m\n\u001b[0;32m----> 4\u001b[0m write_to_file(output_file, \u001b[43mall_rows\u001b[49m)\n",
      "\u001b[0;31mNameError\u001b[0m: name 'all_rows' is not defined"
     ]
    }
   ],
   "source": [
    "#def write_to_file(file_path, content, mode='w')\n",
    "from file_utils import write_to_file\n",
    "output_file = \"output.txt\"\n",
    "write_to_file(output_file, all_rows)"
   ]
  }
 ],
 "metadata": {
  "kernelspec": {
   "display_name": "Python 3 (ipykernel)",
   "language": "python",
   "name": "python3"
  },
  "language_info": {
   "codemirror_mode": {
    "name": "ipython",
    "version": 3
   },
   "file_extension": ".py",
   "mimetype": "text/x-python",
   "name": "python",
   "nbconvert_exporter": "python",
   "pygments_lexer": "ipython3",
   "version": "3.12.3"
  }
 },
 "nbformat": 4,
 "nbformat_minor": 5
}
