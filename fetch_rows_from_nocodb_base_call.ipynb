{
 "cells": [
  {
   "cell_type": "code",
   "execution_count": null,
   "id": "6f528b2a-4a8c-43f4-a2a8-12baa0b601ff",
   "metadata": {},
   "outputs": [],
   "source": [
    "from nocodb_base import fetch_rows_from_nocodb\n"
   ]
  },
  {
   "cell_type": "code",
   "execution_count": null,
   "id": "fc4d62bc-b6c2-4c6f-a767-297335f7958b",
   "metadata": {},
   "outputs": [],
   "source": [
    "# Configuration\n",
    "xc_token = \"\"\n",
    "table_id = \"me77dgzmhjqvqgv\"\n",
    "view_id = \"vwdmq4dujnk9ekbg\"\n",
    "noco_base_url = \"\"\n",
    "headers = {\n",
    "    'accept': 'application/json',\n",
    "    'xc-token': xc_token,\n",
    "}\n",
    "offset = 0\n",
    "limit = 1000"
   ]
  },
  {
   "cell_type": "code",
   "execution_count": null,
   "id": "81fe6261-41b5-4a5a-a9b4-f7cf526d313a",
   "metadata": {},
   "outputs": [],
   "source": [
    "data = fetch_rows_from_nocodb(noco_base_url, headers, table_id, view_id, offset, limit)\n",
    "print(data)"
   ]
  },
  {
   "cell_type": "code",
   "execution_count": null,
   "id": "da1393d0-dc9d-4f18-876b-2a41d44d4541",
   "metadata": {},
   "outputs": [],
   "source": []
  }
 ],
 "metadata": {
  "kernelspec": {
   "display_name": "Python 3 (ipykernel)",
   "language": "python",
   "name": "python3"
  },
  "language_info": {
   "codemirror_mode": {
    "name": "ipython",
    "version": 3
   },
   "file_extension": ".py",
   "mimetype": "text/x-python",
   "name": "python",
   "nbconvert_exporter": "python",
   "pygments_lexer": "ipython3",
   "version": "3.12.3"
  }
 },
 "nbformat": 4,
 "nbformat_minor": 5
}
