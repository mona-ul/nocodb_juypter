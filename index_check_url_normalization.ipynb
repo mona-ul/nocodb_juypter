{
 "cells": [
  {
   "cell_type": "code",
   "execution_count": 11,
   "id": "6f528b2a-4a8c-43f4-a2a8-12baa0b601ff",
   "metadata": {},
   "outputs": [],
   "source": [
    "from nocodb_base import fetch_all_rows_from_nocodb, update_row\n",
    "from file_utils import write_json\n",
    "import re\n"
   ]
  },
  {
   "cell_type": "code",
   "execution_count": 12,
   "id": "fc4d62bc-b6c2-4c6f-a767-297335f7958b",
   "metadata": {},
   "outputs": [],
   "source": [
    "# Configuration\n",
    "xc_token = \"\"\n",
    "table_id = \"mlb3px3mdzkxpuh\"\n",
    "view_id = \"vwae4bvxtzxoegv8\"\n",
    "noco_base_url = \"\"\n",
    "headers = {\n",
    "    'accept': 'application/json',\n",
    "    'xc-token': xc_token,\n",
    "}\n",
    "index_file = \"index_check_20250801/index_sorted.cdxj\""
   ]
  },
  {
   "cell_type": "code",
   "execution_count": 13,
   "id": "9041f431-5928-4339-b961-998e90f80854",
   "metadata": {},
   "outputs": [],
   "source": [
    "# Configuration\n",
    "xc_token = \"G-sFojI-efGYr3WlfBAJLQt3vSnrIK0lkuE7FlB_\"\n",
    "# all cloudfront urls\n",
    "#table_id = \"mxp572bg586eppw\"\n",
    "#view_id = \"vwy8ovu97qes5d9h\"\n",
    "# all pages\n",
    "table_id = \"mocva6wq3lfizyp\"\n",
    "view_id = \"vwdjsszj1rpxh7tt\"\n",
    "noco_base_url = \"http://localhost:8080\"\n",
    "headers = {\n",
    "    'accept': 'application/json',\n",
    "    'xc-token': xc_token,\n",
    "}\n",
    "index_file = \"index_check_20250802/index_sorted.cdxj\"\n"
   ]
  },
  {
   "cell_type": "code",
   "execution_count": 14,
   "id": "81fe6261-41b5-4a5a-a9b4-f7cf526d313a",
   "metadata": {},
   "outputs": [
    {
     "name": "stdout",
     "output_type": "stream",
     "text": [
      "test1\n",
      "Fetching data from offset 0...\n",
      "test3\n",
      "Fetched 1000 posts from offset 0\n",
      "test1\n",
      "Fetching data from offset 1000...\n",
      "test3\n",
      "Fetched 921 posts from offset 1000\n",
      "Total posts fetched: 1921\n"
     ]
    }
   ],
   "source": [
    "rows_data = fetch_all_rows_from_nocodb(noco_base_url, headers, table_id, view_id)\n",
    "#print(rows_data)"
   ]
  },
  {
   "cell_type": "code",
   "execution_count": 15,
   "id": "249090d0-65a6-4481-937c-bf1301d0bf70",
   "metadata": {},
   "outputs": [],
   "source": [
    "from urllib.parse import urlparse, urlunparse, quote\n",
    "\n",
    "def normalize_url(url):\n",
    "    url = url.strip()\n",
    "    parsed = urlparse(url)\n",
    "\n",
    "    scheme = parsed.scheme.lower()\n",
    "    netloc = parsed.netloc.lower()\n",
    "\n",
    "    # Lowercase path, strip trailing slash\n",
    "    path = parsed.path.rstrip('/').lower()\n",
    "\n",
    "    # Keep query string if present (as-is)\n",
    "    query = parsed.query\n",
    "\n",
    "    # Rebuild the normalized URL\n",
    "    normalized = urlunparse((scheme, netloc, path, '', query, ''))\n",
    "\n",
    "    # Encode safely (optional but helpful if comparing to encoded index)\n",
    "    return quote(normalized, safe=':/?&=%')"
   ]
  },
  {
   "cell_type": "code",
   "execution_count": 16,
   "id": "fbb375a8-e88b-44aa-9a89-77061e8e36e3",
   "metadata": {},
   "outputs": [],
   "source": [
    "# Load index file and extract URLs\n",
    "urls_index = {}\n",
    "url_pattern = re.compile(r'\"url\":\\s*\"([^\"]+)\"')\n",
    "\n",
    "with open(index_file, 'rt', encoding='utf-8') as f:\n",
    "    for line in f:\n",
    "        match = url_pattern.search(line)\n",
    "        if match:\n",
    "            url = normalize_url(match.group(1))\n",
    "            urls_index[url] = True"
   ]
  },
  {
   "cell_type": "code",
   "execution_count": 17,
   "id": "6d533151-b1aa-4756-94c0-53dffacbb01a",
   "metadata": {},
   "outputs": [
    {
     "name": "stdout",
     "output_type": "stream",
     "text": [
      "JSON data written to pages_not_in_index.json\n"
     ]
    }
   ],
   "source": [
    "# Process rows and add index status\n",
    "urls = []\n",
    "index_check_field = \"index_check\"\n",
    "for row in rows_data:\n",
    "    record_id = row.get(\"Id\")  # Adjust if your ID column has a different name\n",
    "    url = row.get(\"URL\")  # Adjust if your URL column has a different name\n",
    "    normalized_url = normalize_url(url)\n",
    "    \n",
    "    if normalized_url in urls_index:\n",
    "        index_status = \"in index\"\n",
    "        #row[\"index_status\"] = \"in index\"\n",
    "    else:\n",
    "        index_status = \"not in index\"\n",
    "        #print(url)\n",
    "        urls.append({\"id\": record_id, \"url\": url}) \n",
    "        #row[\"index_status\"] = \"not in index\"\n",
    "    \n",
    "    update_row(noco_base_url, headers, table_id, record_id, index_status,index_check_field)\n",
    "\n",
    "# Save updated rows\n",
    "#output_file = \"cloudfront_not_in_index.json\"\n",
    "output_file = \"pages_not_in_index.json\"\n",
    "\n",
    "write_json(output_file, urls)\n",
    "#print(f\"Updated rows saved to {output_file}\")"
   ]
  },
  {
   "cell_type": "code",
   "execution_count": null,
   "id": "07dffc52-fa4e-4e6d-a8d7-0c94b5777a91",
   "metadata": {},
   "outputs": [],
   "source": []
  },
  {
   "cell_type": "code",
   "execution_count": null,
   "id": "a2bc1032-60b2-4e34-98a7-a560ca1a6cd0",
   "metadata": {},
   "outputs": [],
   "source": []
  }
 ],
 "metadata": {
  "kernelspec": {
   "display_name": "Python 3 (ipykernel)",
   "language": "python",
   "name": "python3"
  },
  "language_info": {
   "codemirror_mode": {
    "name": "ipython",
    "version": 3
   },
   "file_extension": ".py",
   "mimetype": "text/x-python",
   "name": "python",
   "nbconvert_exporter": "python",
   "pygments_lexer": "ipython3",
   "version": "3.12.3"
  }
 },
 "nbformat": 4,
 "nbformat_minor": 5
}
